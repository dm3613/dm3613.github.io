{
 "cells": [
  {
   "cell_type": "code",
   "execution_count": 13,
   "id": "c37888a7",
   "metadata": {},
   "outputs": [],
   "source": [
    "import pandas as pd\n",
    "import geopandas as gpd\n",
    "import matplotlib as plt"
   ]
  },
  {
   "cell_type": "code",
   "execution_count": 7,
   "id": "71001f1e",
   "metadata": {},
   "outputs": [],
   "source": [
    "closed_non_cuomo_prisons = gpd.read_file('closed_non_cuomo_prisons.shp')\n",
    "closed_cuomo_prisons = gpd.read_file('closed_cuomo_prisons.shp')\n",
    "cuomo_prisons = gpd.read_file('cuomo_prisons.shp')\n",
    "non_cuomo_prisons = gpd.read_file('non_cuomo_prisons.shp')\n",
    "prisoner_flows = gpd.read_file('prisoner_flows.shp')\n",
    "newyork_regions = gpd.read_file('newyork_regions.shp')\n",
    "newyork_counties = gpd.read_file('newyork_counties.shp')\n",
    "prison_employment = gpd.read_file('prison_employment.shp')\n",
    "manufacturing_employment = gpd.read_file('manufacturing_employment.shp')\n",
    "employment = gpd.read_file('employment.shp')"
   ]
  },
  {
   "cell_type": "code",
   "execution_count": 11,
   "id": "bcd75991",
   "metadata": {},
   "outputs": [
    {
     "data": {
      "text/html": [
       "<div>\n",
       "<style scoped>\n",
       "    .dataframe tbody tr th:only-of-type {\n",
       "        vertical-align: middle;\n",
       "    }\n",
       "\n",
       "    .dataframe tbody tr th {\n",
       "        vertical-align: top;\n",
       "    }\n",
       "\n",
       "    .dataframe thead th {\n",
       "        text-align: right;\n",
       "    }\n",
       "</style>\n",
       "<table border=\"1\" class=\"dataframe\">\n",
       "  <thead>\n",
       "    <tr style=\"text-align: right;\">\n",
       "      <th></th>\n",
       "      <th>Shape_Leng</th>\n",
       "      <th>Shape_Area</th>\n",
       "      <th>geometry</th>\n",
       "    </tr>\n",
       "  </thead>\n",
       "  <tbody>\n",
       "    <tr>\n",
       "      <th>0</th>\n",
       "      <td>6.328608e+05</td>\n",
       "      <td>1.303957e+10</td>\n",
       "      <td>POLYGON ((217864.627 4808287.697, 218611.680 4...</td>\n",
       "    </tr>\n",
       "    <tr>\n",
       "      <th>1</th>\n",
       "      <td>5.399335e+05</td>\n",
       "      <td>1.252187e+10</td>\n",
       "      <td>POLYGON ((236636.477 4807133.415, 238008.738 4...</td>\n",
       "    </tr>\n",
       "    <tr>\n",
       "      <th>2</th>\n",
       "      <td>8.802569e+05</td>\n",
       "      <td>1.618724e+10</td>\n",
       "      <td>POLYGON ((464936.423 4732625.754, 464946.200 4...</td>\n",
       "    </tr>\n",
       "    <tr>\n",
       "      <th>3</th>\n",
       "      <td>5.544641e+05</td>\n",
       "      <td>9.636764e+09</td>\n",
       "      <td>POLYGON ((437746.364 4836149.281, 437800.044 4...</td>\n",
       "    </tr>\n",
       "    <tr>\n",
       "      <th>4</th>\n",
       "      <td>7.852378e+05</td>\n",
       "      <td>1.371903e+10</td>\n",
       "      <td>POLYGON ((486380.476 4882649.467, 486380.758 4...</td>\n",
       "    </tr>\n",
       "    <tr>\n",
       "      <th>5</th>\n",
       "      <td>1.108617e+06</td>\n",
       "      <td>3.105557e+10</td>\n",
       "      <td>MULTIPOLYGON (((393133.029 4859382.579, 392805...</td>\n",
       "    </tr>\n",
       "    <tr>\n",
       "      <th>6</th>\n",
       "      <td>6.359732e+05</td>\n",
       "      <td>1.381121e+10</td>\n",
       "      <td>POLYGON ((629385.691 4825119.231, 629430.402 4...</td>\n",
       "    </tr>\n",
       "    <tr>\n",
       "      <th>7</th>\n",
       "      <td>5.331313e+05</td>\n",
       "      <td>1.227714e+10</td>\n",
       "      <td>MULTIPOLYGON (((603881.178 4526176.758, 603560...</td>\n",
       "    </tr>\n",
       "    <tr>\n",
       "      <th>8</th>\n",
       "      <td>2.011616e+05</td>\n",
       "      <td>9.095132e+08</td>\n",
       "      <td>MULTIPOLYGON (((578695.482 4499029.452, 578698...</td>\n",
       "    </tr>\n",
       "    <tr>\n",
       "      <th>9</th>\n",
       "      <td>4.975474e+05</td>\n",
       "      <td>3.867379e+09</td>\n",
       "      <td>MULTIPOLYGON (((745144.069 4553291.585, 744788...</td>\n",
       "    </tr>\n",
       "  </tbody>\n",
       "</table>\n",
       "</div>"
      ],
      "text/plain": [
       "     Shape_Leng    Shape_Area  \\\n",
       "0  6.328608e+05  1.303957e+10   \n",
       "1  5.399335e+05  1.252187e+10   \n",
       "2  8.802569e+05  1.618724e+10   \n",
       "3  5.544641e+05  9.636764e+09   \n",
       "4  7.852378e+05  1.371903e+10   \n",
       "5  1.108617e+06  3.105557e+10   \n",
       "6  6.359732e+05  1.381121e+10   \n",
       "7  5.331313e+05  1.227714e+10   \n",
       "8  2.011616e+05  9.095132e+08   \n",
       "9  4.975474e+05  3.867379e+09   \n",
       "\n",
       "                                            geometry  \n",
       "0  POLYGON ((217864.627 4808287.697, 218611.680 4...  \n",
       "1  POLYGON ((236636.477 4807133.415, 238008.738 4...  \n",
       "2  POLYGON ((464936.423 4732625.754, 464946.200 4...  \n",
       "3  POLYGON ((437746.364 4836149.281, 437800.044 4...  \n",
       "4  POLYGON ((486380.476 4882649.467, 486380.758 4...  \n",
       "5  MULTIPOLYGON (((393133.029 4859382.579, 392805...  \n",
       "6  POLYGON ((629385.691 4825119.231, 629430.402 4...  \n",
       "7  MULTIPOLYGON (((603881.178 4526176.758, 603560...  \n",
       "8  MULTIPOLYGON (((578695.482 4499029.452, 578698...  \n",
       "9  MULTIPOLYGON (((745144.069 4553291.585, 744788...  "
      ]
     },
     "execution_count": 11,
     "metadata": {},
     "output_type": "execute_result"
    }
   ],
   "source": [
    "newyork_regions"
   ]
  },
  {
   "cell_type": "code",
   "execution_count": 22,
   "id": "75101f76",
   "metadata": {},
   "outputs": [
    {
     "ename": "NameError",
     "evalue": "name 'x' is not defined",
     "output_type": "error",
     "traceback": [
      "\u001b[0;31m---------------------------------------------------------------------------\u001b[0m",
      "\u001b[0;31mNameError\u001b[0m                                 Traceback (most recent call last)",
      "\u001b[0;32m/var/folders/lm/r08g70353vqgbh8qn5qktl180000gn/T/ipykernel_10246/854767104.py\u001b[0m in \u001b[0;36m<module>\u001b[0;34m\u001b[0m\n\u001b[0;32m----> 1\u001b[0;31m \u001b[0mnewyork_regions\u001b[0m\u001b[0;34m.\u001b[0m\u001b[0mplot\u001b[0m\u001b[0;34m(\u001b[0m\u001b[0;34m)\u001b[0m\u001b[0;34m.\u001b[0m\u001b[0mannotate\u001b[0m\u001b[0;34m(\u001b[0m\u001b[0mnewyork_regions\u001b[0m\u001b[0;34m.\u001b[0m\u001b[0mindex\u001b[0m\u001b[0;34m,\u001b[0m\u001b[0mxy\u001b[0m\u001b[0;34m=\u001b[0m\u001b[0;34m(\u001b[0m\u001b[0mx\u001b[0m\u001b[0;34m,\u001b[0m \u001b[0my\u001b[0m\u001b[0;34m)\u001b[0m\u001b[0;34m,\u001b[0m \u001b[0mxytext\u001b[0m\u001b[0;34m=\u001b[0m\u001b[0;34m(\u001b[0m\u001b[0;36m3\u001b[0m\u001b[0;34m,\u001b[0m \u001b[0;36m3\u001b[0m\u001b[0;34m)\u001b[0m\u001b[0;34m)\u001b[0m\u001b[0;34m\u001b[0m\u001b[0;34m\u001b[0m\u001b[0m\n\u001b[0m\u001b[1;32m      2\u001b[0m \u001b[0max\u001b[0m \u001b[0;34m=\u001b[0m \u001b[0mnewyork_regions\u001b[0m\u001b[0;34m.\u001b[0m\u001b[0mplot\u001b[0m\u001b[0;34m(\u001b[0m\u001b[0;34m)\u001b[0m\u001b[0;34m\u001b[0m\u001b[0;34m\u001b[0m\u001b[0m\n\u001b[1;32m      3\u001b[0m \u001b[0mnewyork_regions\u001b[0m\u001b[0;34m.\u001b[0m\u001b[0mapply\u001b[0m\u001b[0;34m(\u001b[0m\u001b[0;32mlambda\u001b[0m \u001b[0mx\u001b[0m\u001b[0;34m:\u001b[0m \u001b[0max\u001b[0m\u001b[0;34m.\u001b[0m\u001b[0mannotate\u001b[0m\u001b[0;34m(\u001b[0m\u001b[0mtext\u001b[0m\u001b[0;34m=\u001b[0m\u001b[0mnx\u001b[0m\u001b[0;34m.\u001b[0m\u001b[0mIndex\u001b[0m\u001b[0;34m,\u001b[0m \u001b[0mxy\u001b[0m\u001b[0;34m=\u001b[0m\u001b[0mx\u001b[0m\u001b[0;34m.\u001b[0m\u001b[0mgeometry\u001b[0m\u001b[0;34m,\u001b[0m \u001b[0mha\u001b[0m\u001b[0;34m=\u001b[0m\u001b[0;34m'center'\u001b[0m\u001b[0;34m)\u001b[0m\u001b[0;34m,\u001b[0m \u001b[0maxis\u001b[0m\u001b[0;34m=\u001b[0m\u001b[0;36m1\u001b[0m\u001b[0;34m)\u001b[0m\u001b[0;34m;\u001b[0m\u001b[0;34m\u001b[0m\u001b[0;34m\u001b[0m\u001b[0m\n",
      "\u001b[0;31mNameError\u001b[0m: name 'x' is not defined"
     ]
    },
    {
     "data": {
      "image/png": "[encoded data removed]",
      "text/plain": [
       "<Figure size 432x288 with 1 Axes>"
      ]
     },
     "metadata": {
      "needs_background": "light"
     },
     "output_type": "display_data"
    }
   ],
   "source": [
    "\n",
    "ax = newyork_regions.plot()\n",
    "newyork_regions.apply(lambda x: ax.annotate(text=nx.Index, xy=x.geometry, ha='center'), axis=1);"
   ]
  },
  {
   "cell_type": "code",
   "execution_count": null,
   "id": "fcf9bfc6",
   "metadata": {},
   "outputs": [],
   "source": [
    "newyork_regions['name'] = ['']"
   ]
  },
  {
   "cell_type": "code",
   "execution_count": 10,
   "id": "a53be0e3",
   "metadata": {},
   "outputs": [],
   "source": [
    "closed_non_cuomo_prisons.to_file('closed_non_cuomo_prisons.geojson', driver='GeoJSON')\n",
    "closed_cuomo_prisons.to_file('closed_cuomo_prisons.geojson', driver='GeoJSON')\n",
    "cuomo_prisons.to_file('cuomo_prisons.geojson', driver='GeoJSON')\n",
    "non_cuomo_prisons.to_file('non_cuomo_prisons.geojson', driver='GeoJSON')\n",
    "prisoner_flows.to_file('prisoner_flows.geojson', driver='GeoJSON')\n",
    "newyork_regions.to_file('newyork_regions.geojson', driver='GeoJSON')\n",
    "newyork_counties.to_file('newyork_counties.geojson', driver='GeoJSON')\n",
    "prison_employment.to_file('prison_employment.geojson', driver='GeoJSON')\n",
    "manufacturing_employment.to_file('manufacturing_employment.geojson', driver='GeoJSON')\n",
    "employment.to_file('employment.geojson', driver='GeoJSON')"
   ]
  },
  {
   "cell_type": "code",
   "execution_count": null,
   "id": "efaafb59",
   "metadata": {},
   "outputs": [],
   "source": []
  }
 ],
 "metadata": {
  "kernelspec": {
   "display_name": "Python 3 (ipykernel)",
   "language": "python",
   "name": "python3"
  },
  "language_info": {
   "codemirror_mode": {
    "name": "ipython",
    "version": 3
   },
   "file_extension": ".py",
   "mimetype": "text/x-python",
   "name": "python",
   "nbconvert_exporter": "python",
   "pygments_lexer": "ipython3",
   "version": "3.9.7"
  }
 },
 "nbformat": 4,
 "nbformat_minor": 5
}
